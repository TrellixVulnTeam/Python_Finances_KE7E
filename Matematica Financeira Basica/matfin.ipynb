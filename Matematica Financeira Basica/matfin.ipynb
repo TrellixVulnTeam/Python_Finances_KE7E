{
 "metadata": {
  "language_info": {
   "codemirror_mode": {
    "name": "ipython",
    "version": 3
   },
   "file_extension": ".py",
   "mimetype": "text/x-python",
   "name": "python",
   "nbconvert_exporter": "python",
   "pygments_lexer": "ipython3",
   "version": "3.9.0-final"
  },
  "orig_nbformat": 2,
  "kernelspec": {
   "name": "python3",
   "display_name": "Python 3"
  }
 },
 "nbformat": 4,
 "nbformat_minor": 2,
 "cells": [
  {
   "source": [
    "# Matematica Financeira com Python"
   ],
   "cell_type": "markdown",
   "metadata": {}
  },
  {
   "source": [
    "## Parte 1"
   ],
   "cell_type": "markdown",
   "metadata": {}
  },
  {
   "source": [
    "http://prorum.com/?qa=4563/matematica-financeira-com-python\n",
    "\n",
    "https://medium.com/@alegeorgelustosa/introdu%C3%A7%C3%A3o-ao-mercado-financeiro-com-python-3383ebecddf7"
   ],
   "cell_type": "markdown",
   "metadata": {}
  },
  {
   "source": [
    "Usaremos aqui a estrutura de dataframes por meio do módulo pandas, além de alguns outros módulos em situações específicas.\n",
    "Em Python, dataframes são uma forma de organizar informações. São semelhantes a tabelas e podemos utilizar o módulo pandas para lidar com eles. Contudo, na maioria dos casos, os utilizaremos apenas para organizar as informações obtidas após a realização dos cálculos, uma vez que realizar cálculos dentro de uma estrutura de dataframes torna a execução do programa bastante lenta.\n",
    "Dataframes em panda são tabelas com linhas e colunas. Podemos criar um dataframe importando de bases de dados SQL, CVS e Excel. Também podemos criar dataframes a partir de listas, dicionários, listas de dicionários etc."
   ],
   "cell_type": "markdown",
   "metadata": {}
  },
  {
   "source": [
    "### Importando Bibliotecas"
   ],
   "cell_type": "markdown",
   "metadata": {}
  },
  {
   "cell_type": "code",
   "execution_count": 1,
   "metadata": {},
   "outputs": [],
   "source": [
    "import pandas as pd"
   ]
  },
  {
   "source": [
    "Vamos criar uma dataframe usando listas:"
   ],
   "cell_type": "markdown",
   "metadata": {}
  },
  {
   "cell_type": "code",
   "execution_count": 2,
   "metadata": {},
   "outputs": [
    {
     "output_type": "stream",
     "name": "stdout",
     "text": [
      "         0\n0  salário\n1    horas\n2    idade\n    Nome  Idade\n0   José     23\n1  Maria     24\n2   João     54\n3    Ana     14\n"
     ]
    }
   ],
   "source": [
    "lst = [\"salário\", \"horas\", \"idade\"] #Criando uma lista.\n",
    "\n",
    "df1 = pd.DataFrame(lst) #Cria o dataframe a partir da lista\n",
    "\n",
    "print(df1)\n",
    "\n",
    "#Vamos agora criar um dataframe a partir de um dicionário:\n",
    "\n",
    "data2 = {\"Nome\": [\"José\", \"Maria\", \"João\", \"Ana\"], \n",
    "        \"Idade\": [23, 24, 54, 14]}\n",
    "df2 = pd.DataFrame(data2)\n",
    "print(df2)"
   ]
  },
  {
   "source": [
    "Podemos fazer operações matemáticas nas linhas e colunas de uma tabela. Para isso, vamos criar uma tabela. Uma maneira de fazer isso é definindo uma lista de listas e criar uma tabela vazia, dizendo ao panda para preenchê-la com os elementos da lista:"
   ],
   "cell_type": "markdown",
   "metadata": {}
  },
  {
   "cell_type": "code",
   "execution_count": 3,
   "metadata": {},
   "outputs": [
    {
     "output_type": "stream",
     "name": "stdout",
     "text": [
      "    A   B   C   D\n1   1   2   3   4\n2   5   6   7   8\n3   9  10  11  12\n4  13  14  15  16\n5  17  18  19  20\n     A    B    C    D\n1    1    4    9   16\n2   25   36   49   64\n3   81  100  121  144\n4  169  196  225  256\n5  289  324  361  400\n     A    B    C    D\n1   10   20   30   40\n2   50   60   70   80\n3   90  100  110  120\n4  130  140  150  160\n5  170  180  190  200\n    A   B   C   D\n1   2   4   6   8\n2  10  12  14  16\n3  18  20  22  24\n4  26  28  30  32\n5  34  36  38  40\n    A   B   C   D\n1  11  12  13  14\n2  15  16  17  18\n3  19  20  21  22\n4  23  24  25  26\n5  27  28  29  30\n"
     ]
    }
   ],
   "source": [
    "lst = [[1,2,3,4], \n",
    "       [5,6,7,8], \n",
    "       [9,10,11,12], \n",
    "       [13,14,15,16], \n",
    "       [17,18,19,20]]\n",
    "\n",
    "df = pd.DataFrame(lst, index = [\"1\", \"2\", \"3\", \"4\", \"5\"], \n",
    "                  columns = [\"A\", \"B\", \"C\", \"D\"])\n",
    "#Acima estamos criando uma tabela 5x4 vazia e dizendo para preencher com os \n",
    "#elementos da lista.\n",
    "print(df)\n",
    "\n",
    "#Multiplicação de uma tabela por outra:É feita célula por célula:  \n",
    "dfsqr = df*df\n",
    "print(dfsqr)\n",
    "\n",
    "#Multiplicação de uma tabela por um escalar: Ocorre da maneira intuitiva:\n",
    "dezdf = df*10\n",
    "print(dezdf)\n",
    "\n",
    "#Soma de tabelas: Ocorre da maneira intuitiva:\n",
    "df2 = df+df\n",
    "print(df2)\n",
    "\n",
    "#Soma por escalar: Soma o escalar a cada célula:\n",
    "dfmais = df+10\n",
    "print(dfmais)"
   ]
  },
  {
   "source": [
    "Caso desejemos selecionar uma coluna em específico"
   ],
   "cell_type": "markdown",
   "metadata": {}
  },
  {
   "cell_type": "code",
   "execution_count": 4,
   "metadata": {},
   "outputs": [
    {
     "output_type": "stream",
     "name": "stdout",
     "text": [
      "    Nome  Idade Endereço   Renda\n0   José     23    Rua 1     123\n1  Maria     24    Rua 2    2345\n2   João     54    Rua 3     235\n3    Ana     45    Rua 4  568453\n############\n    Nome   Renda\n0   José     123\n1  Maria    2345\n2   João     235\n3    Ana  568453\n    Nome\n0   José\n1  Maria\n2   João\n3    Ana\n    Nome  Idade Endereço   Renda  educ\n0   José     23    Rua 1     123    12\n1  Maria     24    Rua 2    2345     8\n2   João     54    Rua 3     235    13\n3    Ana     45    Rua 4  568453    22\n    Nome Endereço   Renda  educ\n0   José    Rua 1     123    12\n1  Maria    Rua 2    2345     8\n2   João    Rua 3     235    13\n3    Ana    Rua 4  568453    22\n"
     ]
    }
   ],
   "source": [
    "data = {\"Nome\": [\"José\", \"Maria\", \"João\", \"Ana\"], \n",
    "        \"Idade\": [23, 24, 54, 45],\n",
    "        \"Endereço\": [\"Rua 1\", \"Rua 2\", \"Rua 3\", \"Rua 4\"],\n",
    "         \"Renda\": [123, 2345, 235, 568453]}\n",
    "df = pd.DataFrame(data)\n",
    "\n",
    "print(df) #Imprime a tabela toda\n",
    "\n",
    "print(\"############\")\n",
    "\n",
    "#Selecionando uma coluna desejada:\n",
    "print(df[[\"Nome\", \"Renda\"]]) #Imprime apenas as colunas indicadas.\n",
    "\n",
    "#ou:\n",
    "colnome = df[['Nome']]\n",
    "print(colnome)\n",
    "\n",
    "#Adicionar uma nova coluna:\n",
    "educ = [12, 8, 13, 22] #Definico a coluna a ser adicionada\n",
    "\n",
    "df[\"educ\"] = educ #Incorporando a coluna\n",
    "\n",
    "print(df) \n",
    "\n",
    "#Deletando uma coluna:\n",
    "df1 = df.drop(columns = ['Idade']) #Deleta as colunas selecionadas. \n",
    "\n",
    "print(df1)"
   ]
  },
  {
   "cell_type": "code",
   "execution_count": null,
   "metadata": {},
   "outputs": [],
   "source": []
  }
 ]
}